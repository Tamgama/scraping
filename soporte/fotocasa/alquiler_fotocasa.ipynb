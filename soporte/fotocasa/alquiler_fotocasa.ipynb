{
 "cells": [
  {
   "cell_type": "code",
   "execution_count": 8,
   "metadata": {},
   "outputs": [],
   "source": [
    "import requests\n",
    "import time\n",
    "import random\n",
    "import os\n",
    "import re\n",
    "from bs4 import BeautifulSoup\n",
    "import pandas as pd\n",
    "from datetime import datetime\n",
    "import json"
   ]
  },
  {
   "cell_type": "code",
   "execution_count": 12,
   "metadata": {},
   "outputs": [],
   "source": [
    "headers = {\n",
    "    \"Accept\": \"text/html,application/xhtml+xml,application/xml;q=0.9,image/avif,image/webp,image/apng,*/*;q=0.8,application/signed-exchange;v=b3;q=0.7\",\n",
    "    \"Accept-Encoding\": \"gzip, deflate, br, zstd\",\n",
    "    \"Accept-Language\": \"es-ES,es;q=0.9\",\n",
    "    \"Cache-Control\": \"max-age=0\",\n",
    "    \"cookie\": 'segment_ga=GA1.1.361344545.1732793534; ajs_anonymous_id=34440abb-675b-495f-9e43-91cb2e7a7d1d; _fbp=fb.1.1732793536294.54635627275418320; didomi_token=eyJ1c2VyX2lkIjoiMTkzNzI4YjAtOTJmMi02OTI3LWExZmYtODYxYWRkYTMxOWNmIiwiY3JlYXRlZCI6IjIwMjQtMTEtMjhUMTE6MzI6MTQuNzY3WiIsInVwZGF0ZWQiOiIyMDI0LTExLTI4VDExOjMyOjU3LjU5NVoiLCJ2ZW5kb3JzIjp7ImVuYWJsZWQiOlsiZ29vZ2xlIiwiYzpnb29nbGVhbmEtNFRYbkppZ1IiLCJjOmFkZXZpbnRhLW1vdG9yLW1vdG9yIiwiYzptZXRhcGxhdGYtTlJlVnBtTFEiLCJjOmNyaXRlby1QNDhlR1QydyIsImM6Z29vZ2xlaXJlLWZmS2FQYVJEIl19LCJwdXJwb3NlcyI6eyJlbmFibGVkIjpbImRldmljZV9jaGFyYWN0ZXJpc3RpY3MiLCJnZW9sb2NhdGlvbl9kYXRhIiwidHJhbnNmZXItdG8tbW90b3IiLCJ1c29kZWxvcy1RcExwTThqVyJdfSwidmVuZG9yc19saSI6eyJlbmFibGVkIjpbImdvb2dsZSJdfSwidmVyc2lvbiI6Mn0=; euconsent-v2=CQIzPkAQIzPkAAHABBENBRFsAP_gAEPgAAiQKoNX_G__bWlr8X73aftkeY1P9_h77sQxBhfJE-4FzLvW_JwXx2ExNA36tqIKmRIAu3TBIQNlGJDURVCgaogVryDMaEyUoTNKJ6BkiFMRM2dYCFxvm4tj-QCY5vr991dx2B-t7dr83dzyy4xHn3a5_2S0WJCdA5-tDfv9bROb-9IOd_x8v4v4_F_pE2_eT1l_tWvp7D9-cts__XW89_fff_9Pn_-uB_-_3_vf_BU4Akw0KiAMsCQkINAwggQAqCsICKBAEAACQNEBACYMCnYGAC6wkQAgBQADBACAAEGQAIAAAIAEIgAgAKBAABAIFAAGABAMBAAQMAAIALAQCAAEB0DFMCCAQLABIzIiFMCEIBIICWyoQSAIEFcIQizwCIBETBQAAAAAFIAAgLBYHEkgJUJBAFxBtAAAQAIBBAAUIJOTAAEAZstQeDBtGVpgGD5gkQ0wDIAiCMgAAAAA.f_wACHwAAAAA; _gcl_au=1.1.251834761.1732793578; borosTcf=eyJwb2xpY3lWZXJzaW9uIjoyLCJjbXBWZXJzaW9uIjoxLCJwdXJwb3NlIjp7ImNvbnNlbnRzIjp7IjEiOnRydWUsIjIiOnRydWUsIjMiOnRydWUsIjQiOnRydWUsIjUiOnRydWUsIjYiOnRydWUsIjciOnRydWUsIjgiOnRydWUsIjkiOnRydWUsIjEwIjp0cnVlfX0sInNwZWNpYWxGZWF0dXJlcyI6eyIxIjp0cnVlfX0=; kanirante-adv-aauid=b44dfcb4-fe6e-4637-ba61-398b03cb82d5; adit-xandr-id=2992351650503037385; _lr_env_src_ats=false; AMCVS_05FF6243578784B37F000101%40AdobeOrg=1; AMCV_05FF6243578784B37F000101%40AdobeOrg=-408604571%7CMCIDTS%7C20056%7CMCMID%7C43568057574195456610887908598906811472%7CMCAAMLH-1733398378%7C6%7CMCAAMB-1733398378%7CRKhpRz8krg2tLO6pguXWp5olkAcUniQYPHaMWWgdJ3xzPWQmdj0y%7CMCOPTOUT-1732800778s%7CNONE%7CMCAID%7CNONE%7CvVersion%7C4.6.0; sui_1pc=1732793578531314C860FBC8A96C504B2AA544D19F95009F0E9EA777; __gsas=ID=d2fca6dfbd891a2a:T=1732793578:RT=1732793578:S=ALNI_MabelxP4kEC1DqY8IXTfYzMine1Og; _lr_sampling_rate=100; ShowMap=false; _csrf=JDlv60TxoZGpyY0PmaJljD8D4xZzvMIJgQ24SJVeYc5n1Ynvf/Jw8dN4CePf2ozCwIsyR7AWkuURlr7QbPfA/reR81WitLZ+TbJz+qaD7bg=; cu=es-es; ASP.NET_SessionId=kjx0ijzc2kpaykud3qlrjpxt; auth=kjx0ijzc2kpaykud3qlrjpxt; ab.storage.deviceId.c9f9127d-989c-45fe-96f2-f36434db5025=g%3A86822635-4043-47e1-5644-5f21ad3cad76%7Ce%3Aundefined%7Cc%3A1732793535694%7Cl%3A1732805275502; _lr_retry_request=true; _hjSession_89611=eyJpZCI6IjYwOGRjYTkxLTJiZmMtNDIyNy05YmRiLTc1NjlkZDI5ZWM2MSIsImMiOjE3MzI4MDYyODc3MTcsInMiOjAsInIiOjAsInNiIjowLCJzciI6MCwic2UiOjAsImZzIjoxLCJzcCI6MH0=; reese84=3:UPecnXZcjacv79c+jAK5FQ==:k2dgItfn10zmGQtx7x69xVcCptEZPcmiUvpoDwkhHgMbDxAb4UdnnI4q0GxPXJl3iOOdY6x5MxvmOqkJHQu8hUnwsLrgo5P9m1kxUuEgzBVgcM+sYaz4lwVG/YAD5HDLj9BUM51YI0fx45xzPwka4mZ46lYfy1V5N2mCTLfww4HB6QXsFU6dfD11pLkHGKyDi8d0ySA/50NiS4Z72QPTt2hXOChw7L4g+6iFKY+PqxE9XmdwjyKuC3xMsMgEq0x3b3XdKCCVMKJ9KOuCOdPNjbRvxFZ40RlxkBsM8T2kwr5IV1r+doCuSv4AZbVE9IIUTFL6OeEQmYkI9Xx4uEFjCYRhrIyXckDmbA/wGSLN08gUm+5XV263CJ1vtrfuX+O/1J067lnuZpVgt+hMAa2Xk/xMytbrJqcuMASUFYfPZcgVBQmtAaFdFbbtudtyF2UJ6VT/jtW8NQ7dzJLJQ+uuPU74rrDJV1Fhd+l8LCR1S+o=:vbxp53AT9FEEpIG+3dh3biCFkkER1qZrrFo4dnuGF40=; re_uuid=b72819ca-3639-447e-9e97-3ad959f304a2; _hjSessionUser_89611=eyJpZCI6IjdkOGViNTRiLTFlY2UtNTEyZC04YTM5LWUxODA2OTVkODMzNSIsImNyZWF0ZWQiOjE3MzI4MDYyODc3MTUsImV4aXN0aW5nIjp0cnVlfQ==; __gads=ID=770edfc2b3aafc93:T=1732793579:RT=1732807282:S=ALNI_MY2gogBo_11Qdm7OM-oNFNqhsK9wA; __gpi=UID=00000fa19eb998b1:T=1732793579:RT=1732807282:S=ALNI_MYXR-AAulPyNY35ZiNLwt0W4L7t9g; __eoi=ID=9d729ad46a5d0430:T=1732793579:RT=1732807282:S=AA-Afjbi2NjB7Myn4UQvWLR0_nPj; usunico=28/11/2024:15-11776728; segment_ga_WLSRR9KS1C=GS1.1.1732805351.2.1.1732807323.0.0.0; ab.storage.sessionId.c9f9127d-989c-45fe-96f2-f36434db5025=g%3A110de466-0382-e6f4-9b17-8d132c5aa169%7Ce%3A1732809123740%7Cc%3A1732805275500%7Cl%3A1732807323740; __rtbh.lid=%7B%22eventType%22%3A%22lid%22%2C%22id%22%3A%22Qy9KttgOGoqDuw03SOMI%22%2C%22expiryDate%22%3A%222025-11-28T15%3A22%3A03.787Z%22%7D; cto_bundle=9VYDyF9xOVVFeTRUWERlREw4anh0clVTYkthdnhZUzRXbkNYU3lQN2d6ayUyQmI2YWN3bUljVzlZOFloT3JjVTZHMENzSnNCazFpSGtINkxZTzJpSSUyRjZFRGJ5bld5RXc0Uzh2SWNTSlpmSGRWd3FBcm0zSjhHdXpuR0ZkN2QlMkZZdmY3RTE3eDh5bDdOSE1RaXlxdlN6cklhSXV3UFElM0QlM0Q; __rtbh.uid=%7B%22eventType%22%3A%22uid%22%2C%22id%22%3A%22unknown%22%2C%22expiryDate%22%3A%222025-11-28T15%3A22%3A04.649Z%22%7D',\n",
    "    \"Referer\": \"https://www.idealista.com/alquiler-viviendas/murcia-murcia/\",\n",
    "    \"Sec-Ch-Device-Memory\": \"4\",\n",
    "    \"Sec-Ch-Ua\": '\"Not)A;Brand\";v=\"99\", \"Google Chrome\";v=\"127\", \"Chromium\";v=\"127\"',\n",
    "    \"Sec-Ch-Ua-Full-Version-List\": '\"Not)A;Brand\";v=\"99.0.0.0\", \"Google Chrome\";v=\"127.0.6533.120\", \"Chromium\";v=\"127.0.6533.120\"',\n",
    "    \"Sec-Ch-Ua-Mobile\": \"?0\",\n",
    "    \"Sec-Fetch-Dest\": \"document\",\n",
    "    \"Sec-Fetch-Mode\": \"navigate\",\n",
    "    \"Sec-Fetch-Site\": \"same-origin\",\n",
    "    \"Sec-Fetch-User\": \"?1\",\n",
    "    \"Upgrade-Insecure-Requests\": \"1\",\n",
    "    \"User-Agent\": \"Mozilla/5.0 (X11; Linux x86_64) AppleWebKit/537.36 (KHTML, like Gecko) Chrome/126.0.0.0 Safari/537.36\",\n",
    "}"
   ]
  },
  {
   "cell_type": "code",
   "execution_count": 17,
   "metadata": {},
   "outputs": [
    {
     "ename": "HTTPError",
     "evalue": "404 Client Error: Not Found for url: https://www.fotocasa.es/es/alquiler/viviendas/murcia-provincia/todas-las-zonas/",
     "output_type": "error",
     "traceback": [
      "\u001b[0;31m---------------------------------------------------------------------------\u001b[0m",
      "\u001b[0;31mHTTPError\u001b[0m                                 Traceback (most recent call last)",
      "Cell \u001b[0;32mIn[17], line 10\u001b[0m\n\u001b[1;32m      8\u001b[0m \u001b[38;5;66;03m# Realizar la solicitud a la página principal\u001b[39;00m\n\u001b[1;32m      9\u001b[0m response \u001b[38;5;241m=\u001b[39m session\u001b[38;5;241m.\u001b[39mget(base_url)\n\u001b[0;32m---> 10\u001b[0m \u001b[43mresponse\u001b[49m\u001b[38;5;241;43m.\u001b[39;49m\u001b[43mraise_for_status\u001b[49m\u001b[43m(\u001b[49m\u001b[43m)\u001b[49m  \u001b[38;5;66;03m# Verificar que la solicitud sea exitosa\u001b[39;00m\n\u001b[1;32m     12\u001b[0m \u001b[38;5;66;03m# Analizar el contenido HTML\u001b[39;00m\n\u001b[1;32m     13\u001b[0m soup \u001b[38;5;241m=\u001b[39m BeautifulSoup(response\u001b[38;5;241m.\u001b[39mtext, \u001b[38;5;124m'\u001b[39m\u001b[38;5;124mhtml.parser\u001b[39m\u001b[38;5;124m'\u001b[39m)\n",
      "File \u001b[0;32m~/workspace/.venv/lib/python3.12/site-packages/requests/models.py:1024\u001b[0m, in \u001b[0;36mResponse.raise_for_status\u001b[0;34m(self)\u001b[0m\n\u001b[1;32m   1019\u001b[0m     http_error_msg \u001b[38;5;241m=\u001b[39m (\n\u001b[1;32m   1020\u001b[0m         \u001b[38;5;124mf\u001b[39m\u001b[38;5;124m\"\u001b[39m\u001b[38;5;132;01m{\u001b[39;00m\u001b[38;5;28mself\u001b[39m\u001b[38;5;241m.\u001b[39mstatus_code\u001b[38;5;132;01m}\u001b[39;00m\u001b[38;5;124m Server Error: \u001b[39m\u001b[38;5;132;01m{\u001b[39;00mreason\u001b[38;5;132;01m}\u001b[39;00m\u001b[38;5;124m for url: \u001b[39m\u001b[38;5;132;01m{\u001b[39;00m\u001b[38;5;28mself\u001b[39m\u001b[38;5;241m.\u001b[39murl\u001b[38;5;132;01m}\u001b[39;00m\u001b[38;5;124m\"\u001b[39m\n\u001b[1;32m   1021\u001b[0m     )\n\u001b[1;32m   1023\u001b[0m \u001b[38;5;28;01mif\u001b[39;00m http_error_msg:\n\u001b[0;32m-> 1024\u001b[0m     \u001b[38;5;28;01mraise\u001b[39;00m HTTPError(http_error_msg, response\u001b[38;5;241m=\u001b[39m\u001b[38;5;28mself\u001b[39m)\n",
      "\u001b[0;31mHTTPError\u001b[0m: 404 Client Error: Not Found for url: https://www.fotocasa.es/es/alquiler/viviendas/murcia-provincia/todas-las-zonas/"
     ]
    }
   ],
   "source": [
    "# Crear una sesión\n",
    "session = requests.Session()\n",
    "session.headers.update(headers)\n",
    "\n",
    "# URL base de Fotocasa\n",
    "base_url = \"https://www.fotocasa.es/es/alquiler/viviendas/murcia-provincia/todas-las-zonas/\"\n",
    "\n",
    "# Realizar la solicitud a la página principal\n",
    "response = session.get(base_url)\n",
    "response.raise_for_status()  # Verificar que la solicitud sea exitosa\n",
    "\n",
    "# Analizar el contenido HTML\n",
    "soup = BeautifulSoup(response.text, 'html.parser')\n",
    "\n",
    "# Encontrar todas las tarjetas de inmuebles\n",
    "listings = soup.find_all(\"article\", class_=\"re-CardPackPremium\")\n",
    "\n",
    "# Procesar cada listado\n",
    "for listing in listings:\n",
    "    try:\n",
    "        # Encontrar el enlace al inmueble\n",
    "        link_tag = listing.find('a', class_='re-CardPackPremium-carousel')\n",
    "        if not link_tag:\n",
    "            continue\n",
    "        href = link_tag.get('href').get_text()\n",
    "        full_link = f\"https://www.fotocasa.es{href}\" if href.startswith(\"/\") else f\"https://www.fotocasa.es/{href}\"\n",
    "\n",
    "        # Encontrar el título del inmueble\n",
    "        titulo = listing.find(\"span\", class_=\"re-I18nPropertyTitle\").get_text()\n",
    "\n",
    "        # Sacar el precio\n",
    "        precio = listing.find('span', class_=\"re-CardPrice\").get_text(strip=True)\n",
    "\n",
    "        # Extraer características principales (habitaciones, baños, superficie)\n",
    "        features = listing.find(\"ul\", class_=\"re-CardFeaturesWithIcons-wrapper\")\n",
    "        habitaciones = features.find(\"span\", class_=\"re-CardFeaturesWithIcons-feature-icon--rooms\").get_text(strip=True) if features else \"N/A\"\n",
    "        banos = features.find(\"span\", class_=\"re-CardFeaturesWithIcons-feature-icon--bathrooms\").get_text(strip=True) if features else \"N/A\"\n",
    "        superficie = features.find(\"span\", class_=\"re-CardFeaturesWithIcons-feature-icon--surface\").get_text(strip=True) if features else \"N/A\"\n",
    "        planta = features.find('span', class_='re-CardFeaturesWithIcons-feature-icon--floor').get_text(strip=True) if features else \"N/A\"\n",
    "\n",
    "        # Mostrar los resultados básicos\n",
    "        print(f\"Título: {titulo}\")\n",
    "        print(f\"Precio: {precio}\")\n",
    "        print(f\"Habitaciones: {habitaciones}\")\n",
    "        print(f\"Baños: {banos}\")\n",
    "        print(f\"Superficie: {superficie}\")\n",
    "        print(f\"Planta: {planta}\")\n",
    "        print(f\"Enlace: {full_link}\")\n",
    "\n",
    "        # Si hay enlace, entrar en la página del inmueble\n",
    "        if full_link:\n",
    "            detail_response = session.get(full_link)\n",
    "            detail_response.raise_for_status()\n",
    "\n",
    "            # Analizar el contenido HTML de la página del inmueble\n",
    "            detail_soup = BeautifulSoup(detail_response.text, 'html.parser')\n",
    "\n",
    "            # Extraer información adicional\n",
    "            # Por ejemplo, descripción del inmueble\n",
    "            descripcion = detail_soup.find(\"p\", class_=\"re-DetailDescription-text\")\n",
    "            descripcion_text = descripcion.get_text(strip=True) if descripcion else \"Descripción no disponible\"\n",
    "\n",
    "            # Extraer dirección exacta si está disponible\n",
    "            direccion = detail_soup.find(\"span\", class_=\"re-DetailHeader-address\")\n",
    "            direccion_text = direccion.get_text(strip=True) if direccion else \"Dirección no disponible\"\n",
    "\n",
    "            # Extraer características detalladas\n",
    "            detailed_features = detail_soup.find_all('div', class_='re-DetailFeaturesList-feature')\n",
    "            caracteristicas = []\n",
    "            for feature in detailed_features:\n",
    "                label = feature.find('p', class_='re-DetailFeaturesList-featureLabel').get_text(strip=True)\n",
    "                value = feature.find('div', class_='re-DetailFeaturesList-featureValue').get_text(strip=True)\n",
    "                caracteristicas.append((label, value))\n",
    "\n",
    "            # Mostrar la información adicional\n",
    "            print(\"Información adicional:\")\n",
    "            print(f\"Descripción: {descripcion_text}\")\n",
    "            print(f\"Dirección: {direccion_text}\")\n",
    "            print(\"Características detalladas:\")\n",
    "            for label, value in caracteristicas:\n",
    "                print(f\"{label}: {value}\")\n",
    "            print(\"=\" * 50)\n",
    "\n",
    "    except Exception as e:\n",
    "        print(f\"Error procesando un listado: {e}\")"
   ]
  },
  {
   "cell_type": "code",
   "execution_count": 16,
   "metadata": {},
   "outputs": [
    {
     "name": "stdout",
     "output_type": "stream",
     "text": [
      "{<a class=\"re-CardPackPremium-info-container\" href=\"/es/alquiler/vivienda/cartagena/aire-acondicionado-calefaccion-parking-ascensor/184987623/d?from=list\" title=\"Piso de alquiler en Casco Antiguo\"><h3 class=\"re-CardHeader\"><span class=\"re-CardTitle re-CardTitle--big\"><span class=\"re-I18nPropertyTitle\"><strong>Piso</strong> con balcón<!-- --> en Casco Antiguo </span></span><span class=\"re-CardPriceContainer\"><span class=\"re-CardPriceComposite\"><span class=\"re-CardPrice\">800 €</span></span><span class=\"re-CardTimeAgo re-CardTimeAgo--isInlineWithPrice\" data-testid=\"CardTimeAgo\"> Novedad</span></span></h3><ul class=\"re-CardFeaturesWithIcons-wrapper re-CardFeaturesWithIcons-wrapper--isTwoLines\"><li class=\"re-CardFeaturesWithIcons-feature\"><span class=\"re-CardFeaturesWithIcons-feature-icon re-CardFeaturesWithIcons-feature-icon--rooms\">2 habs.</span></li><li class=\"re-CardFeaturesWithIcons-feature\"><span class=\"re-CardFeaturesWithIcons-feature-icon re-CardFeaturesWithIcons-feature-icon--bathrooms\">1 baño</span></li><li class=\"re-CardFeaturesWithIcons-feature\"><span class=\"re-CardFeaturesWithIcons-feature-icon re-CardFeaturesWithIcons-feature-icon--surface\">87 m²</span></li><li class=\"re-CardFeaturesWithIcons-feature\"><span class=\"re-CardFeaturesWithIcons-feature-icon re-CardFeaturesWithIcons-feature-icon--floor\">4ª Planta</span></li><li class=\"re-CardFeaturesWithIcons-feature\"><span class=\"re-CardFeaturesWithIcons-feature-icon re-CardFeaturesWithIcons-feature-icon--elevator\">Ascensor</span></li><li class=\"re-CardFeaturesWithIcons-feature\"><span class=\"re-CardFeaturesWithIcons-feature-icon re-CardFeaturesWithIcons-feature-icon--parking\">Parking</span></li></ul><p class=\"re-CardDescription re-CardDescription--isTwoLines\"><span class=\"re-CardDescription-text re-CardDescription-text--isTwoLines\">¡No pierdas la oportunidad de vivir en pleno centro de Cartagena!\n",
      "\n",
      "INMOCARTAGO te ofrece este bonito y acogedor piso, ideal para aquellos que buscan comodidad, ... <span class=\"re-CardDescription-link\">Leer más</span></span></p></a>}\n"
     ]
    }
   ],
   "source": [
    "print({link_tag})"
   ]
  },
  {
   "cell_type": "code",
   "execution_count": 18,
   "metadata": {},
   "outputs": [
    {
     "name": "stdout",
     "output_type": "stream",
     "text": [
      "{'/es/alquiler/vivienda/cartagena/aire-acondicionado-calefaccion-parking-ascensor/184987623/d?from=list'}\n"
     ]
    }
   ],
   "source": [
    "print({href})"
   ]
  },
  {
   "cell_type": "code",
   "execution_count": null,
   "metadata": {},
   "outputs": [],
   "source": []
  }
 ],
 "metadata": {
  "kernelspec": {
   "display_name": ".venv",
   "language": "python",
   "name": "python3"
  },
  "language_info": {
   "codemirror_mode": {
    "name": "ipython",
    "version": 3
   },
   "file_extension": ".py",
   "mimetype": "text/x-python",
   "name": "python",
   "nbconvert_exporter": "python",
   "pygments_lexer": "ipython3",
   "version": "3.12.3"
  }
 },
 "nbformat": 4,
 "nbformat_minor": 2
}
