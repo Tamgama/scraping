{
 "cells": [
  {
   "cell_type": "code",
   "execution_count": null,
   "metadata": {},
   "outputs": [],
   "source": [
    "import requests\n",
    "import time\n",
    "import random\n",
    "import os\n",
    "import re\n",
    "from bs4 import BeautifulSoup\n",
    "import pandas as pd\n",
    "from datetime import datetime\n",
    "import json"
   ]
  },
  {
   "cell_type": "code",
   "execution_count": null,
   "metadata": {},
   "outputs": [],
   "source": [
    "provincias_espana = {\n",
    "    \"Álava\": \"Álava\",\n",
    "    \"Albacete\": \"Albacete\",\n",
    "    \"Alicante\": \"Alicante\",\n",
    "    \"Almería\": \"Almería\",\n",
    "    \"Asturias\": \"Asturias\",\n",
    "    \"Ávila\": \"Ávila\",\n",
    "    \"Badajoz\": \"Badajoz\",\n",
    "    \"Baleares\": \"Baleares\",\n",
    "    \"Barcelona\": \"Barcelona\",\n",
    "    \"Burgos\": \"Burgos\",\n",
    "    \"Cáceres\": \"Cáceres\",\n",
    "    \"Cádiz\": \"Cádiz\",\n",
    "    \"Cantabria\": \"Cantabria\",\n",
    "    \"Castellón\": \"Castellón\",\n",
    "    \"Ciudad Real\": \"Ciudad Real\",\n",
    "    \"Córdoba\": \"Córdoba\",\n",
    "    \"Cuenca\": \"Cuenca\",\n",
    "    \"Gerona\": \"Gerona\",\n",
    "    \"Granada\": \"Granada\",\n",
    "    \"Guadalajara\": \"Guadalajara\",\n",
    "    \"Guipúzcoa\": \"Guipúzcoa\",\n",
    "    \"Huelva\": \"Huelva\",\n",
    "    \"Huesca\": \"Huesca\",\n",
    "    \"Jaén\": \"Jaén\",\n",
    "    \"La Coruña\": \"La Coruña\",\n",
    "    \"La Rioja\": \"La Rioja\",\n",
    "    \"Las Palmas\": \"Las Palmas\",\n",
    "    \"León\": \"León\",\n",
    "    \"Lérida\": \"Lérida\",\n",
    "    \"Lugo\": \"Lugo\",\n",
    "    \"Madrid\": \"Madrid\",\n",
    "    \"Málaga\": \"Málaga\",\n",
    "    \"Murcia\": \"Murcia\",\n",
    "    \"Navarra\": \"Navarra\",\n",
    "    \"Orense\": \"Orense\",\n",
    "    \"Palencia\": \"Palencia\",\n",
    "    \"Pontevedra\": \"Pontevedra\",\n",
    "    \"Salamanca\": \"Salamanca\",\n",
    "    \"Segovia\": \"Segovia\",\n",
    "    \"Sevilla\": \"Sevilla\",\n",
    "    \"Soria\": \"Soria\",\n",
    "    \"Tarragona\": \"Tarragona\",\n",
    "    \"Tenerife\": \"Tenerife\",\n",
    "    \"Teruel\": \"Teruel\",\n",
    "    \"Toledo\": \"Toledo\",\n",
    "    \"Valencia\": \"Valencia\",\n",
    "    \"Valladolid\": \"Valladolid\",\n",
    "    \"Vizcaya\": \"Vizcaya\",\n",
    "    \"Zamora\": \"Zamora\",\n",
    "    \"Zaragoza\": \"Zaragoza\"\n",
    "}\n",
    "\n",
    "base_dir = os.path.dirname(os.path.abspath(__file__))\n",
    "csv_file = os.path.join(base_dir, '../src/milanuncios.csv')  # Ruta local al csv\n"
   ]
  },
  {
   "cell_type": "code",
   "execution_count": null,
   "metadata": {},
   "outputs": [],
   "source": [
    "cookie = \"userUUID=d24af10d-f04c-473f-aa91-e3423aba66bb; contact1fd4dec7-1c4f-45f9-8c89-8da78f511e15=\\\"{'maxNumberContactsAllow':10}\\\"; cookieSearch-1=\\\"/venta-viviendas/murcia-provincia/:1725101672378\\\"; SESSION=020cfe1ee892acc9~1fd4dec7-1c4f-45f9-8c89-8da78f511e15; utag_main__pn=17%3Bexp-session; utag_main__sn=1; utag_main_ses_id=1725101674032%3Bexp-session; utag_main__prevVtUrl=https%3A%2F%2Fwww.idealista.com%2Fventa-viviendas%2Fmurcia-provincia%2Fpagina-2.htm%3Bexp-1725105274103; utag_main__prevVtUrlReferrer=https://www.idealista.com/venta-viviendas/murcia-provincia/%3Bexp-1725105274103; utag_main__prevVtSource=Portal sites%3Bexp-1725105274103; utag_main__prevVtCampaignName=organicWeb%3Bexp-1725105274103; utag_main__prevVtCampaignCode=%3Bexp-1725105274103; utag_main__prevVtCampaignLinkName=%3Bexp-1725105274103; utag_main__prevVtRecipientId=%3Bexp-1725105274103; utag_main__prevVtProvider=%3Bexp-1725105274103; _pprv=eyJjb25zZW50Ijp7IjAiOnsibW9kZSI6Im9wdC1pbiJ9LCIxIjp7Im1vZGUiOiJvcHQtaW4ifSwiMiI6eyJtb2RlIjoib3B0LWluIn0sIjMiOnsibW9kZSI6Im9wdC1pbiJ9LCI0Ijp7Im1vZGUiOiJvcHQtaW4ifSwiNSI6eyJtb2RlIjoib3B0LWluIn0sIjYiOnsibW9kZSI6Im9wdC1pbiJ9LCI3Ijp7Im1vZGUiOiJvcHQtaW4ifX0sInB1cnBvc2VzIjpudWxsLCJfdCI6Im1nNmZ4YzRkfG0waTB6dXNkIn0%3D; utag_main__ss=0%3Bexp-session; utag_main__prevCompletePageName=005-idealista/portal > portal > viewResults%3Bexp-1725105274210; utag_main__prevLevel2=005-idealista/portal%3Bexp-1725105274210; _last_search=officialZone; _pcid=%7B%22browserId%22%3A%22m0i0zus9qb0ed4eq%22%2C%22_t%22%3A%22mg6fxc6h%7Cm0i0zuuh%22%7D; _pctx=%7Bu%7DN4IgrgzgpgThIC4B2YA2qA05owMoBcBDfSREQpAeyRCwgEt8oBJAE0RXSwH18yBbAOYA2AGYAPAMbD6AH34AGegoBeYMPRABfIA; __rtbh.uid=%7B%22eventType%22%3A%22uid%22%2C%22id%22%3A%22unknown%22%7D; __rtbh.lid=%7B%22eventType%22%3A%22lid%22%2C%22id%22%3A%222HYtSm2sFoFP17uisl5c%22%7D; didomi_token=eyJ1c2VyX2lkIjoiMTkxYTgxMjgtY2I2Ni02M2U4LWFlYzMtNzc1N2QzNTA1MTAxIiwiY3JlYXRlZCI6IjIwMjQtMDgtMzFUMTA6NTQ6MzMuNjU0WiIsInVwZGF0ZWQiOiIyMDI0LTA4LTMxVDEwOjU0OjM2LjcyNVoiLCJ2ZW5kb3JzIjp7ImVuYWJsZWQiOlsiZ29vZ2xlIiwiYzpsaW5rZWRpbi1tYXJrZXRpbmctc29sdXRpb25zIiwiYzptaXhwYW5lbCIsImM6YWJ0YXN0eS1MTGtFQ0NqOCIsImM6aG90amFyIiwiYzpiZWFtZXItSDd0cjdIaXgiLCJjOnRlYWxpdW1jby1EVkRDZDhaUCIsImM6dGlrdG9rLUtaQVVRTFo5IiwiYzpnb29nbGVhbmEtNFRYbkppZ1IiLCJjOmlkZWFsaXN0YS1MenRCZXFFMyIsImM6aWRlYWxpc3RhLWZlUkVqZTJjIiwiYzpjb250ZW50c3F1YXJlIiwiYzptaWNyb3NvZnQiXX0sInB1cnBvc2VzIjp7ImVuYWJsZWQiOlsiZ2VvbG9jYXRpb25fZGF0YSIsImRldmljZV9jaGFyYWN0ZXJpc3RpY3MiXX0sInZlcnNpb24iOjIsImFjIjoiQ2hHQUVBRmtGQ0lBLkFBQUEifQ==; euconsent-v2=CQEN6IAQEN6IAAHABBENBDFsAP_gAAAAAAAAHXwBwAIAAqABaAFsAUgC8wHXgAAAFJQAYAAgpiUgAwABBTEhABgACCmI6ADAAEFMQkAGAAIKYgAA.f_wAAAAAAAAA; dicbo_id=%7B%22dicbo_fetch%22%3A1725101676758%7D; utag_main__se=3%3Bexp-session; utag_main__st=1725103476777%3Bexp-session; utag_main__prevCompleteClickName=255-idealista/others > > errorClickNameNOTdefined; _gcl_au=1.1.1783634721.1725101677; cto_bundle=YsJnm19lVGMxJTJGN3lqYmZXJTJCekdsJTJGMnFlQ1hic0o3VE1MZDRBemFmdE1Lck9TaEg1RUk4TGJwcDQlMkJEJTJCTlpxVHV3eFdBZ2pOeSUyQlMyYVYybWdpYnZpckQ1Tlg4djZ0Y2FJdUJjMHJXMElEcHolMkJuMlJZekFnb0FMZUdIOE1oWDJzUk1UaFNV; ABTastySession=mrasn=&lp=https%253A%252F%252Fwww.idealista.com%252Fventa-viviendas%252Fmurcia-provincia%252Fpagina-2.htm; ABTasty=uid=b5p918fnw1bvn9fb&fst=1725101677227&pst=-1&cst=1725101677227&ns=1&pvt=1&pvis=1&th=; _uetsid=6a4f0e80678711ef8945df302a19b158; _uetvid=6a4f2d30678711ef9fb519bd8a039402; _hjSessionUser_250321=eyJpZCI6IjRiOWFiYWFlLTUyYjktNTM1Ni1iNjkzLTc0M2IzNTBhYmM0ZSIsImNyZWF0ZWQiOjE3MjUxMDE2Nzc0NjYsImV4aXN0aW5nIjpmYWxzZX0=; _hjSession_250321=eyJpZCI6ImUxNjI4NjY5LTExYTEtNDFiNC1iNjE0LTZlZjlhZWU0YjY2NyIsImMiOjE3MjUxMDE2Nzc0NjcsInMiOjAsInIiOjAsInNiIjowLCJzciI6MCwic2UiOjAsImZzIjoxLCJzcCI6MH0=; _hjHasCachedUserAttributes=true; _tt_enable_cookie=1; _ttp=BXelFliGdUiDSKR0vifQeBxDYU1; _clck=78hiqq%7C2%7Cfos%7C0%7C1704; _clsk=wh4pel%7C1725101678096%7C1%7C0%7Cu.clarity.ms%2Fcollect; datadome=QS0~dbpUwQju0uV~5xWsu8n~k8OlwdnnTwtQMlhBHjt_vDlSXi6NQndntwg8uExQhZIXqU7vFIlg9nCslzTOgblbnUYtEjTmZK4dIu80Oc0gXZUekcXwT1AZ9lQRn88A\"\n",
    "with open(os.path.join(base_dir, './cookie.json'), 'r') as cookie_file:\n",
    "    config = json.load(cookie_file)\n",
    "    cookie = config['cookie']\n",
    "cookie = cookie.encode('utf-8')"
   ]
  },
  {
   "cell_type": "code",
   "execution_count": null,
   "metadata": {},
   "outputs": [],
   "source": [
    "# Leer el archivo CSV si existe, si no, crear un DataFrame vacío\n",
    "if os.path.exists(csv_file):\n",
    "    df = pd.read_csv(csv_file)\n",
    "else:\n",
    "    df = pd.DataFrame(columns=[\n",
    "        \"id_inmueble\", \"tipo\", \"titulo\", \"calle\", \"barrio\", \"zona\", \"ciudad\", \"localizacion\", \n",
    "        \"precio\", \"precio_metro\", \"caracteristicas\", \"habitaciones\",\n",
    "        \"baños\", \"referencia\", \"anunciante\", \"nombre\", \"tlf\", \"url\", \"fecha\"\n",
    "    ])"
   ]
  },
  {
   "cell_type": "code",
   "execution_count": null,
   "metadata": {},
   "outputs": [],
   "source": []
  }
 ],
 "metadata": {
  "kernelspec": {
   "display_name": ".venv",
   "language": "python",
   "name": "python3"
  },
  "language_info": {
   "name": "python",
   "version": "3.12.3"
  }
 },
 "nbformat": 4,
 "nbformat_minor": 2
}
