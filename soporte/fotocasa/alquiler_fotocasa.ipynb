{
 "cells": [
  {
   "cell_type": "code",
   "execution_count": 11,
   "metadata": {},
   "outputs": [],
   "source": [
    "import requests\n",
    "import time\n",
    "import random\n",
    "import os\n",
    "import re\n",
    "from bs4 import BeautifulSoup\n",
    "import pandas as pd\n",
    "from datetime import datetime\n",
    "import json"
   ]
  },
  {
   "cell_type": "code",
   "execution_count": 12,
   "metadata": {},
   "outputs": [],
   "source": [
    "headers = {\n",
    "    \"Accept\": \"text/html,application/xhtml+xml,application/xml;q=0.9,image/avif,image/webp,image/apng,*/*;q=0.8,application/signed-exchange;v=b3;q=0.7\",\n",
    "    \"Accept-Encoding\": \"gzip, deflate, br, zstd\",\n",
    "    \"Accept-Language\": \"es-ES,es;q=0.9\",\n",
    "    \"Cache-Control\": \"max-age=0\",\n",
    "    \"cookie\": 're_uuid=4a73cfef-17cb-4bf1-b895-f538c107cc1c; reese84=3:y6KsYwsXsetcHeamprarhA==:ARvXYH5ZDPFUmZ7zYx2qdtclSOMvWDBE8nsaCb/GFSwfKZXDBNEYrjHlX5/p+tpRP85oDL5nrZc0XnuzqhTLLTf03wTm9Tj0ryfo5WYwqWVhJGvMP4eEtVL3ze7cwVM/T1VvvM0wQUEY0HV2TsLQ0YjV3DoxiPedWZZ7Ux8Sx8ic1jOOfJOETUxKmYp33vJsFkPyy2X38Rg+WiurHoUV/8RaXSIns4PA/HxAlCLWIRevIoxatW4Q8L1+dPeCK1iGQhzbBFuH40k7vc6lxnkNM3RrYtUIUIDFDrRA2Wo8Y5+CtVMbFcw+6Mw99wH2eqpFKsy6da5dWyZw8mG2O6S9DIdTghqb+1Hy5f7SBgoWlqOoXtIPJyVHOtluZup0Ilkc9FUC2fwQbOrkxy1ibjmOs/kH3xKwuzTM5WA68q6eLOYalYbrogcqL5pkJtjcLCJkPwEO5BLkylulCTsUuU5F1Q==:LeqjhgOiYn1LYE9fHBq3OZO6qIfQTvHREYcM6ZoqVXk=; didomi_token=eyJ1c2VyX2lkIjoiMTkzNzdhMjEtOTVjYy02YmQ3LWFkMTYtMTlhMWI2MDFhMTc3IiwiY3JlYXRlZCI6IjIwMjQtMTEtMjlUMTE6MTU6MzIuMzE2WiIsInVwZGF0ZWQiOiIyMDI0LTExLTI5VDExOjE1OjM5LjM2MVoiLCJ2ZW5kb3JzIjp7ImVuYWJsZWQiOlsiZ29vZ2xlIiwiYzpnb29nbGVhbmEtNFRYbkppZ1IiLCJjOmFkZXZpbnRhLW1vdG9yLW1vdG9yIiwiYzptZXRhcGxhdGYtTlJlVnBtTFEiLCJjOmNyaXRlby1QNDhlR1QydyIsImM6Z29vZ2xlaXJlLWZmS2FQYVJEIl19LCJwdXJwb3NlcyI6eyJlbmFibGVkIjpbImRldmljZV9jaGFyYWN0ZXJpc3RpY3MiLCJnZW9sb2NhdGlvbl9kYXRhIiwidHJhbnNmZXItdG8tbW90b3IiLCJ1c29kZWxvcy1RcExwTThqVyJdfSwidmVuZG9yc19saSI6eyJlbmFibGVkIjpbImdvb2dsZSJdfSwidmVyc2lvbiI6Mn0=; euconsent-v2=CQI2igAQI2igAAHABBENBRFsAP_gAEPgAAiQKoNX_G__bWlr8X73aftkeY1P9_h77sQxBhfJE-4FzLvW_JwXx2ExNA36tqIKmRIAu3TBIQNlGJDURVCgaogVryDMaEyUoTNKJ6BkiFMRM2dYCFxvm4tj-QCY5vr991dx2B-t7dr83dzyy4xHn3a5_2S0WJCdA5-tDfv9bROb-9IOd_x8v4v4_F_pE2_eT1l_tWvp7D9-cts__XW89_fff_9Pn_-uB_-_3_vf_BU4Akw0KiAMsCQkINAwggQAqCsICKBAEAACQNEBACYMCnYGAC6wkQAgBQADBACAAEGQAIAAAIAEIgAgAKBAABAIFAAGABAMBAAQMAAIALAQCAAEB0DFMCCAQLABIzIiFMCEIBIICWyoQSAIEFcIQizwCIBETBQAAAAAFIAAgLBYHEkgJUJBAFxBtAAAQAIBBAAUIJOTAAEAZstQeDBtGVpgGD5gkQ0wDIAiCMgAAAAA.f_wACHwAAAAA; borosTcf=eyJwb2xpY3lWZXJzaW9uIjoyLCJjbXBWZXJzaW9uIjoxLCJwdXJwb3NlIjp7ImNvbnNlbnRzIjp7IjEiOnRydWUsIjIiOnRydWUsIjMiOnRydWUsIjQiOnRydWUsIjUiOnRydWUsIjYiOnRydWUsIjciOnRydWUsIjgiOnRydWUsIjkiOnRydWUsIjEwIjp0cnVlfX0sInNwZWNpYWxGZWF0dXJlcyI6eyIxIjp0cnVlfX0=; kanirante-adv-aauid=1917394c-2c9f-42bc-bad9-45948864e1da; AMCVS_05FF6243578784B37F000101%40AdobeOrg=1; AMCV_05FF6243578784B37F000101%40AdobeOrg=-408604571%7CMCIDTS%7C20057%7CMCMID%7C85815951856949542982648077952583171318%7CMCAID%7CNONE%7CMCOPTOUT-1732886139s%7CNONE%7CvVersion%7C4.6.0',\n",
    "    \"Referer\": \"https://www.idealista.com/alquiler-viviendas/murcia-murcia/\",\n",
    "    \"Sec-Ch-Device-Memory\": \"4\",\n",
    "    \"Sec-Ch-Ua\": '\"Not)A;Brand\";v=\"99\", \"Google Chrome\";v=\"127\", \"Chromium\";v=\"127\"',\n",
    "    \"Sec-Ch-Ua-Full-Version-List\": '\"Not)A;Brand\";v=\"99.0.0.0\", \"Google Chrome\";v=\"127.0.6533.120\", \"Chromium\";v=\"127.0.6533.120\"',\n",
    "    \"Sec-Ch-Ua-Mobile\": \"?0\",\n",
    "    \"Sec-Fetch-Dest\": \"document\",\n",
    "    \"Sec-Fetch-Mode\": \"navigate\",\n",
    "    \"Sec-Fetch-Site\": \"same-origin\",\n",
    "    \"Sec-Fetch-User\": \"?1\",\n",
    "    \"Upgrade-Insecure-Requests\": \"1\",\n",
    "    \"User-Agent\": \"Mozilla/5.0 (X11; Linux x86_64) AppleWebKit/537.36 (KHTML, like Gecko) Chrome/126.0.0.0 Safari/537.36\",\n",
    "}"
   ]
  },
  {
   "cell_type": "code",
   "execution_count": null,
   "metadata": {},
   "outputs": [],
   "source": [
    "# Crear una sesión\n",
    "session = requests.Session()\n",
    "session.headers.update(headers)\n",
    "\n",
    "# URL base de Fotocasa\n",
    "base_url = \"https://www.fotocasa.es/es/alquiler/viviendas/murcia-provincia/todas-las-zonas/l\"\n",
    "\n",
    "# Realizar la solicitud a la página principal\n",
    "response = session.get(base_url)\n",
    "response.raise_for_status()  # Verificar que la solicitud sea exitosa\n",
    "\n",
    "# Analizar el contenido HTML\n",
    "soup = BeautifulSoup(response.text, 'html.parser')\n",
    "\n",
    "# Encontrar todas las tarjetas de inmuebles\n",
    "listings = soup.find_all(\"article\", class_=\"re-CardPackPremium\")\n",
    "\n",
    "# Procesar cada listado\n",
    "for listing in listings:\n",
    "    try:\n",
    "        # Encontrar el enlace al inmueble\n",
    "        link_tag = listing.find('a', class_='re-CardPackPremium-carousel')\n",
    "        if not link_tag:\n",
    "            continue\n",
    "        href = link_tag.get('href')\n",
    "        full_link = f\"https://www.fotocasa.es{href}\" if href.startswith(\"/\") else f\"https://www.fotocasa.es/{href}\"\n",
    "\n",
    "        # Encontrar el título del inmueble\n",
    "        titulo = listing.find(\"span\", class_=\"re-I18nPropertyTitle\").get_text()\n",
    "\n",
    "        # Sacar el precio\n",
    "        precio = listing.find('span', class_=\"re-CardPrice\").get_text(strip=True)\n",
    "\n",
    "        # Extraer características principales (habitaciones, baños, superficie)\n",
    "        features = listing.find(\"ul\", class_=\"re-CardFeaturesWithIcons-wrapper\")\n",
    "        habitaciones = features.find(\"span\", class_=\"re-CardFeaturesWithIcons-feature-icon--rooms\").get_text(strip=True) if features else \"N/A\"\n",
    "        banos = features.find(\"span\", class_=\"re-CardFeaturesWithIcons-feature-icon--bathrooms\").get_text(strip=True) if features else \"N/A\"\n",
    "        superficie = features.find(\"span\", class_=\"re-CardFeaturesWithIcons-feature-icon--surface\").get_text(strip=True) if features else \"N/A\"\n",
    "        planta = features.find('span', class_='re-CardFeaturesWithIcons-feature-icon--floor').get_text(strip=True) if features else \"N/A\"\n",
    "\n",
    "        # Mostrar los resultados básicos\n",
    "        print(f\"Título: {titulo}\")\n",
    "        print(f\"Precio: {precio}\")\n",
    "        print(f\"Habitaciones: {habitaciones}\")\n",
    "        print(f\"Baños: {banos}\")\n",
    "        print(f\"Superficie: {superficie}\")\n",
    "        print(f\"Planta: {planta}\")\n",
    "        print(f\"Enlace: {full_link}\")\n",
    "\n",
    "        # Si hay enlace, entrar en la página del inmueble\n",
    "        if full_link:\n",
    "            detail_response = session.get(full_link)\n",
    "            detail_response.raise_for_status()\n",
    "\n",
    "            # Analizar el contenido HTML de la página del inmueble\n",
    "            detail_soup = BeautifulSoup(detail_response.text, 'html.parser')\n",
    "\n",
    "            # Extraer información adicional\n",
    "            # Por ejemplo, descripción del inmueble\n",
    "            descripcion = detail_soup.find(\"p\", class_=\"re-DetailDescription-text\")\n",
    "            descripcion_text = descripcion.get_text(strip=True) if descripcion else \"Descripción no disponible\"\n",
    "\n",
    "            # Extraer dirección exacta si está disponible\n",
    "            direccion = detail_soup.find(\"span\", class_=\"re-DetailHeader-address\")\n",
    "            direccion_text = direccion.get_text(strip=True) if direccion else \"Dirección no disponible\"\n",
    "\n",
    "            # Extraer características detalladas\n",
    "            detailed_features = detail_soup.find_all('div', class_='re-DetailFeaturesList-feature')\n",
    "            caracteristicas = []\n",
    "            for feature in detailed_features:\n",
    "                label = feature.find('p', class_='re-DetailFeaturesList-featureLabel').get_text(strip=True)\n",
    "                value = feature.find('div', class_='re-DetailFeaturesList-featureValue').get_text(strip=True)\n",
    "                caracteristicas.append((label, value))\n",
    "\n",
    "            # Mostrar la información adicional\n",
    "            print(\"Información adicional:\")\n",
    "            print(f\"Descripción: {descripcion_text}\")\n",
    "            print(f\"Dirección: {direccion_text}\")\n",
    "            print(\"Características detalladas:\")\n",
    "            for label, value in caracteristicas:\n",
    "                print(f\"{label}: {value}\")\n",
    "            print(\"=\" * 50)\n",
    "\n",
    "    except Exception as e:\n",
    "        print(f\"Error procesando un listado: {e}\")"
   ]
  },
  {
   "cell_type": "code",
   "execution_count": 16,
   "metadata": {},
   "outputs": [
    {
     "name": "stdout",
     "output_type": "stream",
     "text": [
      "{<a class=\"re-CardPackPremium-info-container\" href=\"/es/alquiler/vivienda/cartagena/aire-acondicionado-calefaccion-parking-ascensor/184987623/d?from=list\" title=\"Piso de alquiler en Casco Antiguo\"><h3 class=\"re-CardHeader\"><span class=\"re-CardTitle re-CardTitle--big\"><span class=\"re-I18nPropertyTitle\"><strong>Piso</strong> con balcón<!-- --> en Casco Antiguo </span></span><span class=\"re-CardPriceContainer\"><span class=\"re-CardPriceComposite\"><span class=\"re-CardPrice\">800 €</span></span><span class=\"re-CardTimeAgo re-CardTimeAgo--isInlineWithPrice\" data-testid=\"CardTimeAgo\"> Novedad</span></span></h3><ul class=\"re-CardFeaturesWithIcons-wrapper re-CardFeaturesWithIcons-wrapper--isTwoLines\"><li class=\"re-CardFeaturesWithIcons-feature\"><span class=\"re-CardFeaturesWithIcons-feature-icon re-CardFeaturesWithIcons-feature-icon--rooms\">2 habs.</span></li><li class=\"re-CardFeaturesWithIcons-feature\"><span class=\"re-CardFeaturesWithIcons-feature-icon re-CardFeaturesWithIcons-feature-icon--bathrooms\">1 baño</span></li><li class=\"re-CardFeaturesWithIcons-feature\"><span class=\"re-CardFeaturesWithIcons-feature-icon re-CardFeaturesWithIcons-feature-icon--surface\">87 m²</span></li><li class=\"re-CardFeaturesWithIcons-feature\"><span class=\"re-CardFeaturesWithIcons-feature-icon re-CardFeaturesWithIcons-feature-icon--floor\">4ª Planta</span></li><li class=\"re-CardFeaturesWithIcons-feature\"><span class=\"re-CardFeaturesWithIcons-feature-icon re-CardFeaturesWithIcons-feature-icon--elevator\">Ascensor</span></li><li class=\"re-CardFeaturesWithIcons-feature\"><span class=\"re-CardFeaturesWithIcons-feature-icon re-CardFeaturesWithIcons-feature-icon--parking\">Parking</span></li></ul><p class=\"re-CardDescription re-CardDescription--isTwoLines\"><span class=\"re-CardDescription-text re-CardDescription-text--isTwoLines\">¡No pierdas la oportunidad de vivir en pleno centro de Cartagena!\n",
      "\n",
      "INMOCARTAGO te ofrece este bonito y acogedor piso, ideal para aquellos que buscan comodidad, ... <span class=\"re-CardDescription-link\">Leer más</span></span></p></a>}\n"
     ]
    }
   ],
   "source": [
    "print({link_tag})"
   ]
  },
  {
   "cell_type": "code",
   "execution_count": 18,
   "metadata": {},
   "outputs": [
    {
     "name": "stdout",
     "output_type": "stream",
     "text": [
      "{'/es/alquiler/vivienda/cartagena/aire-acondicionado-calefaccion-parking-ascensor/184987623/d?from=list'}\n"
     ]
    }
   ],
   "source": [
    "print({href})"
   ]
  },
  {
   "cell_type": "code",
   "execution_count": null,
   "metadata": {},
   "outputs": [],
   "source": []
  }
 ],
 "metadata": {
  "kernelspec": {
   "display_name": ".venv",
   "language": "python",
   "name": "python3"
  },
  "language_info": {
   "codemirror_mode": {
    "name": "ipython",
    "version": 3
   },
   "file_extension": ".py",
   "mimetype": "text/x-python",
   "name": "python",
   "nbconvert_exporter": "python",
   "pygments_lexer": "ipython3",
   "version": "3.10.12"
  }
 },
 "nbformat": 4,
 "nbformat_minor": 2
}
