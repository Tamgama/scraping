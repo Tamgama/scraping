{
 "cells": [
  {
   "cell_type": "code",
   "execution_count": 1,
   "metadata": {},
   "outputs": [],
   "source": [
    "import pandas as pd\n",
    "import numpy as np\n",
    "import re\n",
    "import os\n",
    "\n",
    "pd.set_option(\"display.max_columns\", None)\n",
    "pd.set_option('display.max_colwidth', None)"
   ]
  },
  {
   "cell_type": "code",
   "execution_count": 2,
   "metadata": {},
   "outputs": [
    {
     "data": {
      "text/html": [
       "<div>\n",
       "<style scoped>\n",
       "    .dataframe tbody tr th:only-of-type {\n",
       "        vertical-align: middle;\n",
       "    }\n",
       "\n",
       "    .dataframe tbody tr th {\n",
       "        vertical-align: top;\n",
       "    }\n",
       "\n",
       "    .dataframe thead th {\n",
       "        text-align: right;\n",
       "    }\n",
       "</style>\n",
       "<table border=\"1\" class=\"dataframe\">\n",
       "  <thead>\n",
       "    <tr style=\"text-align: right;\">\n",
       "      <th></th>\n",
       "      <th>pdf</th>\n",
       "      <th>teléfono</th>\n",
       "      <th>habitaciones</th>\n",
       "      <th>Equipment</th>\n",
       "      <th>precio_alquiler</th>\n",
       "      <th>superficie</th>\n",
       "      <th>baños</th>\n",
       "      <th>contacto</th>\n",
       "    </tr>\n",
       "  </thead>\n",
       "  <tbody>\n",
       "    <tr>\n",
       "      <th>0</th>\n",
       "      <td>Alquiler de piso en avenida de la Constitución, 5, San Miguel, Murcia.pdf</td>\n",
       "      <td>690 964 656</td>\n",
       "      <td>3</td>\n",
       "      <td>Amueblado</td>\n",
       "      <td>800.0</td>\n",
       "      <td>110.0</td>\n",
       "      <td>2.0</td>\n",
       "      <td>Elena</td>\n",
       "    </tr>\n",
       "    <tr>\n",
       "      <th>1</th>\n",
       "      <td>Alquiler de piso en avenida de la Constitución, 5, San Miguel, Murcia.pdf</td>\n",
       "      <td>651 915 502</td>\n",
       "      <td>3</td>\n",
       "      <td>Amueblado</td>\n",
       "      <td>850.0</td>\n",
       "      <td>125.0</td>\n",
       "      <td>2.0</td>\n",
       "      <td>Marco</td>\n",
       "    </tr>\n",
       "    <tr>\n",
       "      <th>2</th>\n",
       "      <td>Alquiler de piso en calle Riquelme, 14, Santa Catalina-San Bartolomé, Murcia.pdf</td>\n",
       "      <td>644 463 987</td>\n",
       "      <td>4</td>\n",
       "      <td>equipada</td>\n",
       "      <td>300.0</td>\n",
       "      <td>80.0</td>\n",
       "      <td>1.0</td>\n",
       "      <td>NaN</td>\n",
       "    </tr>\n",
       "    <tr>\n",
       "      <th>3</th>\n",
       "      <td>Alquiler de piso en calle Cánovas del Castillo, 67, Santiago de la Ribera, San Javier.pdf</td>\n",
       "      <td>665 795 659</td>\n",
       "      <td>2</td>\n",
       "      <td>amueblado</td>\n",
       "      <td>800.0</td>\n",
       "      <td>82.0</td>\n",
       "      <td>2.0</td>\n",
       "      <td>Angel</td>\n",
       "    </tr>\n",
       "    <tr>\n",
       "      <th>4</th>\n",
       "      <td>Alquiler de piso en calle urb veneziola, 3, Playa del Esparto-Veneziola, La Manga del Mar Menor.pdf</td>\n",
       "      <td>671 305 483</td>\n",
       "      <td>2</td>\n",
       "      <td>Amueblado</td>\n",
       "      <td>300.0</td>\n",
       "      <td>28.0</td>\n",
       "      <td>1.0</td>\n",
       "      <td>Alicia</td>\n",
       "    </tr>\n",
       "  </tbody>\n",
       "</table>\n",
       "</div>"
      ],
      "text/plain": [
       "                                                                                                   pdf  \\\n",
       "0                           Alquiler de piso en avenida de la Constitución, 5, San Miguel, Murcia.pdf   \n",
       "1                           Alquiler de piso en avenida de la Constitución, 5, San Miguel, Murcia.pdf   \n",
       "2                    Alquiler de piso en calle Riquelme, 14, Santa Catalina-San Bartolomé, Murcia.pdf   \n",
       "3           Alquiler de piso en calle Cánovas del Castillo, 67, Santiago de la Ribera, San Javier.pdf   \n",
       "4  Alquiler de piso en calle urb veneziola, 3, Playa del Esparto-Veneziola, La Manga del Mar Menor.pdf   \n",
       "\n",
       "      teléfono habitaciones  Equipment  precio_alquiler  superficie  baños  \\\n",
       "0  690 964 656            3  Amueblado            800.0       110.0    2.0   \n",
       "1  651 915 502            3  Amueblado            850.0       125.0    2.0   \n",
       "2  644 463 987            4   equipada            300.0        80.0    1.0   \n",
       "3  665 795 659            2  amueblado            800.0        82.0    2.0   \n",
       "4  671 305 483            2  Amueblado            300.0        28.0    1.0   \n",
       "\n",
       "  contacto  \n",
       "0    Elena  \n",
       "1    Marco  \n",
       "2      NaN  \n",
       "3    Angel  \n",
       "4   Alicia  "
      ]
     },
     "execution_count": 2,
     "metadata": {},
     "output_type": "execute_result"
    }
   ],
   "source": [
    "pdfs = pd.read_csv('data-pdf.csv')\n",
    "pdfs.head()"
   ]
  },
  {
   "cell_type": "code",
   "execution_count": 3,
   "metadata": {},
   "outputs": [],
   "source": [
    "pdfs = pdfs.rename(columns={'contacto': 'nombre', \n",
    "                            'Equipment': 'amueblado', \n",
    "                            'precio_alquiler': 'precio',\n",
    "                            'teléfono': 'telefono',\n",
    "                            'baños': 'banos',\n",
    "                            })\n",
    "pdfs['tipo_transaccion'] = 'Alquiler'\n",
    "pdfs['perfil'] = 'Particular'\n",
    "pdfs['fecha'] = '2018-01-01'\n",
    "pdfs['precio'] = pdfs['precio'].fillna(0).astype(int)\n",
    "pdfs['superficie'] = pdfs['superficie'].fillna(0).astype(int)\n",
    "pdfs['banos'] = pdfs['banos'].fillna(0).astype(int)\n",
    "# Cambiar datos concretos de una columna, por ejemplo, cambiar el valor de 'precio' donde 'ciudad' es 'Murcia'\n",
    "# Reemplazar los valores de 'No especificado' en la columna 'habitaciones' por 0\n",
    "pdfs.loc[pdfs['habitaciones'] == 'No especificado', 'habitaciones'] = 0\n",
    "# Cambiar el tipo de la columna 'habitaciones' a entero\n",
    "pdfs['habitaciones'] = pdfs['habitaciones'].astype(int)\n",
    "\n",
    "\n",
    "\n",
    "# Definir la función para extraer los datos\n",
    "def extraer_datos(row):\n",
    "    # Usar una expresión regular para capturar \"tipo de vivienda\", \"street\" y \"place\"\n",
    "    match = re.search(r'Alquiler de (.+?) en (.*?, \\d+), (.*?)\\.pdf', row)\n",
    "    if match:\n",
    "        tipo = match.group(1)  # Captura el tipo de vivienda (piso, casa, etc.)\n",
    "        calle = match.group(2)         # Captura la calle y número\n",
    "        barrio = match.group(3)          # Captura el barrio y la ciudad\n",
    "        return pd.Series([tipo, calle, barrio])\n",
    "    else:\n",
    "        return pd.Series([None, None, None])  # Si no coincide, devuelve None\n",
    "\n",
    "# Aplicar la función al DataFrame y crear las nuevas columnas\n",
    "pdfs[['tipo', 'calle', 'barrio']] = pdfs['pdf'].apply(extraer_datos)"
   ]
  },
  {
   "cell_type": "code",
   "execution_count": 5,
   "metadata": {},
   "outputs": [
    {
     "name": "stdout",
     "output_type": "stream",
     "text": [
      "<class 'pandas.core.frame.DataFrame'>\n",
      "RangeIndex: 11137 entries, 0 to 11136\n",
      "Data columns (total 19 columns):\n",
      " #   Column          Non-Null Count  Dtype \n",
      "---  ------          --------------  ----- \n",
      " 0   id              11137 non-null  int64 \n",
      " 1   name_contact    11009 non-null  object\n",
      " 2   telephone       10869 non-null  object\n",
      " 3   type_operation  11137 non-null  object\n",
      " 4   property        11137 non-null  object\n",
      " 5   profile         11137 non-null  object\n",
      " 6   street          9329 non-null   object\n",
      " 7   place           11137 non-null  object\n",
      " 8   meters          11137 non-null  int64 \n",
      " 9   rooms           11137 non-null  object\n",
      " 10  orientation     6050 non-null   object\n",
      " 11  features        10621 non-null  object\n",
      " 12  price           11137 non-null  int64 \n",
      " 13  source          11137 non-null  object\n",
      " 14  id_source       11137 non-null  int64 \n",
      " 15  url_source      11137 non-null  object\n",
      " 16  date            11137 non-null  object\n",
      " 17  date_scrape     11137 non-null  object\n",
      " 18  ask_advertiser  11137 non-null  object\n",
      "dtypes: int64(4), object(15)\n",
      "memory usage: 1.6+ MB\n"
     ]
    }
   ],
   "source": [
    "euspay = pd.read_csv('euspay-murcia.csv')\n",
    "euspay.drop(\"Unnamed: 0\", axis=1, inplace=True)\n",
    "euspay.info()"
   ]
  },
  {
   "cell_type": "code",
   "execution_count": 6,
   "metadata": {},
   "outputs": [],
   "source": [
    "euspay = euspay.rename(columns={'id_source': 'id_inmueble',\n",
    "                                'name_contact': 'nombre',\n",
    "                                'telephone': 'telefono',\n",
    "                                'type_operation': 'tipo_transaccion',\n",
    "                                'property': 'tipo',\n",
    "                                'profile': 'perfil',\n",
    "                                'street': 'calle',\n",
    "                                'place': 'barrio',\n",
    "                                'meters': 'superficie',\n",
    "                                'rooms': 'habitaciones',\n",
    "                                'orientation': 'orientacion',\n",
    "                                'price': 'precio',\n",
    "                                'date_scrape': 'fecha',\n",
    "                                })\n",
    "\n",
    "euspay = euspay.drop(columns={'id', 'ask_advertiser', 'date', 'source'})"
   ]
  },
  {
   "cell_type": "code",
   "execution_count": 7,
   "metadata": {},
   "outputs": [
    {
     "name": "stdout",
     "output_type": "stream",
     "text": [
      "<class 'pandas.core.frame.DataFrame'>\n",
      "RangeIndex: 11137 entries, 0 to 11136\n",
      "Data columns (total 15 columns):\n",
      " #   Column            Non-Null Count  Dtype \n",
      "---  ------            --------------  ----- \n",
      " 0   nombre            11009 non-null  object\n",
      " 1   telefono          10869 non-null  object\n",
      " 2   tipo_transaccion  11137 non-null  object\n",
      " 3   tipo              11137 non-null  object\n",
      " 4   perfil            11137 non-null  object\n",
      " 5   calle             9329 non-null   object\n",
      " 6   barrio            11137 non-null  object\n",
      " 7   superficie        11137 non-null  int64 \n",
      " 8   habitaciones      11137 non-null  object\n",
      " 9   orientacion       6050 non-null   object\n",
      " 10  features          10621 non-null  object\n",
      " 11  precio            11137 non-null  int64 \n",
      " 12  id_inmueble       11137 non-null  int64 \n",
      " 13  url_source        11137 non-null  object\n",
      " 14  fecha             11137 non-null  object\n",
      "dtypes: int64(3), object(12)\n",
      "memory usage: 1.3+ MB\n"
     ]
    }
   ],
   "source": [
    "euspay.info()"
   ]
  },
  {
   "cell_type": "code",
   "execution_count": null,
   "metadata": {},
   "outputs": [],
   "source": [
    "bd_pdf = pdfs[['nombre', 'perfil', 'telefono', 'tipo_transaccion', 'tipo', 'calle', 'barrio', 'superficie', 'habitaciones', 'banos',  ]]\n"
   ]
  },
  {
   "cell_type": "code",
   "execution_count": 8,
   "metadata": {},
   "outputs": [
    {
     "name": "stdout",
     "output_type": "stream",
     "text": [
      "<class 'pandas.core.frame.DataFrame'>\n",
      "RangeIndex: 1970 entries, 0 to 1969\n",
      "Data columns (total 14 columns):\n",
      " #   Column            Non-Null Count  Dtype \n",
      "---  ------            --------------  ----- \n",
      " 0   pdf               1970 non-null   object\n",
      " 1   telefono          1970 non-null   object\n",
      " 2   habitaciones      1970 non-null   int64 \n",
      " 3   amueblado         1695 non-null   object\n",
      " 4   precio            1970 non-null   int64 \n",
      " 5   superficie        1970 non-null   int64 \n",
      " 6   banos             1970 non-null   int64 \n",
      " 7   nombre            1251 non-null   object\n",
      " 8   tipo_transaccion  1970 non-null   object\n",
      " 9   perfil            1970 non-null   object\n",
      " 10  fecha             1970 non-null   object\n",
      " 11  tipo              1645 non-null   object\n",
      " 12  calle             1645 non-null   object\n",
      " 13  barrio            1645 non-null   object\n",
      "dtypes: int64(4), object(10)\n",
      "memory usage: 215.6+ KB\n"
     ]
    }
   ],
   "source": [
    "pdfs.info()"
   ]
  },
  {
   "cell_type": "code",
   "execution_count": null,
   "metadata": {},
   "outputs": [],
   "source": [
    "df_merged = pd.merge(pdfs, euspay, on='id_inmueble')"
   ]
  }
 ],
 "metadata": {
  "kernelspec": {
   "display_name": ".venv",
   "language": "python",
   "name": "python3"
  },
  "language_info": {
   "codemirror_mode": {
    "name": "ipython",
    "version": 3
   },
   "file_extension": ".py",
   "mimetype": "text/x-python",
   "name": "python",
   "nbconvert_exporter": "python",
   "pygments_lexer": "ipython3",
   "version": "3.12.3"
  }
 },
 "nbformat": 4,
 "nbformat_minor": 2
}
