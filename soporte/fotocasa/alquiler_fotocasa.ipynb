{
 "cells": [
  {
   "cell_type": "code",
   "execution_count": 19,
   "metadata": {},
   "outputs": [],
   "source": [
    "import requests\n",
    "import time\n",
    "import random\n",
    "import os\n",
    "import re\n",
    "from bs4 import BeautifulSoup\n",
    "import pandas as pd\n",
    "from datetime import datetime\n",
    "import json"
   ]
  },
  {
   "cell_type": "code",
   "execution_count": 20,
   "metadata": {},
   "outputs": [],
   "source": [
    "headers = {\n",
    "    \"Accept\": \"text/html,application/xhtml+xml,application/xml;q=0.9,image/avif,image/webp,image/apng,*/*;q=0.8,application/signed-exchange;v=b3;q=0.7\",\n",
    "    \"Accept-Encoding\": \"gzip, deflate, br, zstd\",\n",
    "    \"Accept-Language\": \"es-ES,es;q=0.9\",\n",
    "    \"Cache-Control\": \"max-age=0\",\n",
    "    \"cookie\": 're_uuid=4a73cfef-17cb-4bf1-b895-f538c107cc1c; reese84=3:y6KsYwsXsetcHeamprarhA==:ARvXYH5ZDPFUmZ7zYx2qdtclSOMvWDBE8nsaCb/GFSwfKZXDBNEYrjHlX5/p+tpRP85oDL5nrZc0XnuzqhTLLTf03wTm9Tj0ryfo5WYwqWVhJGvMP4eEtVL3ze7cwVM/T1VvvM0wQUEY0HV2TsLQ0YjV3DoxiPedWZZ7Ux8Sx8ic1jOOfJOETUxKmYp33vJsFkPyy2X38Rg+WiurHoUV/8RaXSIns4PA/HxAlCLWIRevIoxatW4Q8L1+dPeCK1iGQhzbBFuH40k7vc6lxnkNM3RrYtUIUIDFDrRA2Wo8Y5+CtVMbFcw+6Mw99wH2eqpFKsy6da5dWyZw8mG2O6S9DIdTghqb+1Hy5f7SBgoWlqOoXtIPJyVHOtluZup0Ilkc9FUC2fwQbOrkxy1ibjmOs/kH3xKwuzTM5WA68q6eLOYalYbrogcqL5pkJtjcLCJkPwEO5BLkylulCTsUuU5F1Q==:LeqjhgOiYn1LYE9fHBq3OZO6qIfQTvHREYcM6ZoqVXk=; didomi_token=eyJ1c2VyX2lkIjoiMTkzNzdhMjEtOTVjYy02YmQ3LWFkMTYtMTlhMWI2MDFhMTc3IiwiY3JlYXRlZCI6IjIwMjQtMTEtMjlUMTE6MTU6MzIuMzE2WiIsInVwZGF0ZWQiOiIyMDI0LTExLTI5VDExOjE1OjM5LjM2MVoiLCJ2ZW5kb3JzIjp7ImVuYWJsZWQiOlsiZ29vZ2xlIiwiYzpnb29nbGVhbmEtNFRYbkppZ1IiLCJjOmFkZXZpbnRhLW1vdG9yLW1vdG9yIiwiYzptZXRhcGxhdGYtTlJlVnBtTFEiLCJjOmNyaXRlby1QNDhlR1QydyIsImM6Z29vZ2xlaXJlLWZmS2FQYVJEIl19LCJwdXJwb3NlcyI6eyJlbmFibGVkIjpbImRldmljZV9jaGFyYWN0ZXJpc3RpY3MiLCJnZW9sb2NhdGlvbl9kYXRhIiwidHJhbnNmZXItdG8tbW90b3IiLCJ1c29kZWxvcy1RcExwTThqVyJdfSwidmVuZG9yc19saSI6eyJlbmFibGVkIjpbImdvb2dsZSJdfSwidmVyc2lvbiI6Mn0=; euconsent-v2=CQI2igAQI2igAAHABBENBRFsAP_gAEPgAAiQKoNX_G__bWlr8X73aftkeY1P9_h77sQxBhfJE-4FzLvW_JwXx2ExNA36tqIKmRIAu3TBIQNlGJDURVCgaogVryDMaEyUoTNKJ6BkiFMRM2dYCFxvm4tj-QCY5vr991dx2B-t7dr83dzyy4xHn3a5_2S0WJCdA5-tDfv9bROb-9IOd_x8v4v4_F_pE2_eT1l_tWvp7D9-cts__XW89_fff_9Pn_-uB_-_3_vf_BU4Akw0KiAMsCQkINAwggQAqCsICKBAEAACQNEBACYMCnYGAC6wkQAgBQADBACAAEGQAIAAAIAEIgAgAKBAABAIFAAGABAMBAAQMAAIALAQCAAEB0DFMCCAQLABIzIiFMCEIBIICWyoQSAIEFcIQizwCIBETBQAAAAAFIAAgLBYHEkgJUJBAFxBtAAAQAIBBAAUIJOTAAEAZstQeDBtGVpgGD5gkQ0wDIAiCMgAAAAA.f_wACHwAAAAA; borosTcf=eyJwb2xpY3lWZXJzaW9uIjoyLCJjbXBWZXJzaW9uIjoxLCJwdXJwb3NlIjp7ImNvbnNlbnRzIjp7IjEiOnRydWUsIjIiOnRydWUsIjMiOnRydWUsIjQiOnRydWUsIjUiOnRydWUsIjYiOnRydWUsIjciOnRydWUsIjgiOnRydWUsIjkiOnRydWUsIjEwIjp0cnVlfX0sInNwZWNpYWxGZWF0dXJlcyI6eyIxIjp0cnVlfX0=; kanirante-adv-aauid=1917394c-2c9f-42bc-bad9-45948864e1da; AMCVS_05FF6243578784B37F000101%40AdobeOrg=1; AMCV_05FF6243578784B37F000101%40AdobeOrg=-408604571%7CMCIDTS%7C20057%7CMCMID%7C85815951856949542982648077952583171318%7CMCAID%7CNONE%7CMCOPTOUT-1732886139s%7CNONE%7CvVersion%7C4.6.0',\n",
    "    \"Referer\": \"https://www.idealista.com/alquiler-viviendas/murcia-murcia/\",\n",
    "    \"Sec-Ch-Device-Memory\": \"4\",\n",
    "    \"Sec-Ch-Ua\": '\"Not)A;Brand\";v=\"99\", \"Google Chrome\";v=\"127\", \"Chromium\";v=\"127\"',\n",
    "    \"Sec-Ch-Ua-Full-Version-List\": '\"Not)A;Brand\";v=\"99.0.0.0\", \"Google Chrome\";v=\"127.0.6533.120\", \"Chromium\";v=\"127.0.6533.120\"',\n",
    "    \"Sec-Ch-Ua-Mobile\": \"?0\",\n",
    "    \"Sec-Fetch-Dest\": \"document\",\n",
    "    \"Sec-Fetch-Mode\": \"navigate\",\n",
    "    \"Sec-Fetch-Site\": \"same-origin\",\n",
    "    \"Sec-Fetch-User\": \"?1\",\n",
    "    \"Upgrade-Insecure-Requests\": \"1\",\n",
    "    \"User-Agent\": \"Mozilla/5.0 (X11; Linux x86_64) AppleWebKit/537.36 (KHTML, like Gecko) Chrome/126.0.0.0 Safari/537.36\",\n",
    "}"
   ]
  },
  {
   "cell_type": "code",
   "execution_count": 28,
   "metadata": {},
   "outputs": [
    {
     "name": "stdout",
     "output_type": "stream",
     "text": [
      "Procesando página 1...\n",
      "Procesando página 2...\n",
      "No se encontraron más inmuebles. Fin de la paginación.\n",
      "Se encontraron 2 inmuebles.\n",
      "{'Título': 'Apartamento con terraza en Calle NUEVO PUERTO BELLO-MANGA, Entremares ', 'Precio': '650 €', 'Habitaciones': '2 habs.', 'Baños': '1 baño', 'Superficie': '51 m²', 'Planta': '2ª Planta', 'Enlace': 'https://www.fotocasa.es/es/alquiler/vivienda/la-manga-del-mar-menor/aire-acondicionado-calefaccion-jardin-terraza-piscina/184947088/d?from=list'}\n",
      "{'Título': 'Piso con balcón en Casco Antiguo ', 'Precio': '800 €', 'Habitaciones': '2 habs.', 'Baños': '1 baño', 'Superficie': '87 m²', 'Planta': '4ª Planta', 'Enlace': 'https://www.fotocasa.es/es/alquiler/vivienda/cartagena/aire-acondicionado-calefaccion-parking-ascensor/184987623/d?from=list'}\n"
     ]
    }
   ],
   "source": [
    "# Crear una sesión\n",
    "session = requests.Session()\n",
    "session.headers.update(headers)\n",
    "\n",
    "# URL base de Fotocasa\n",
    "base_url = \"https://www.fotocasa.es/es/alquiler/viviendas/murcia-provincia/todas-las-zonas/\"\n",
    "\n",
    "# Paginación y almacenamiento de resultados\n",
    "page = 1\n",
    "all_listings = []\n",
    "\n",
    "while True:\n",
    "    try:\n",
    "        print(f\"Procesando página {page}...\")\n",
    "        # Realizar la solicitud a la página actual\n",
    "        response = session.get(f\"{base_url}l/{page}\")\n",
    "        response.raise_for_status()  # Verificar que la solicitud sea exitosa\n",
    "\n",
    "        # Analizar el contenido HTML\n",
    "        soup = BeautifulSoup(response.text, 'html.parser')\n",
    "\n",
    "        # Encontrar todas las tarjetas de inmuebles\n",
    "        listings = soup.find_all(\"article\", class_=\"re-CardPackPremium\")\n",
    "\n",
    "        # Si no hay más tarjetas, salir del bucle\n",
    "        if not listings:\n",
    "            print(\"No se encontraron más inmuebles. Fin de la paginación.\")\n",
    "            break\n",
    "\n",
    "        # Almacenar las tarjetas\n",
    "        for listing in listings:\n",
    "            try:\n",
    "                link_tag = listing.find('a', class_='re-CardPackPremium-carousel')\n",
    "                href = link_tag.get('href') if link_tag else None\n",
    "                full_link = f\"https://www.fotocasa.es{href}\" if href and href.startswith(\"/\") else None\n",
    "\n",
    "                titulo = listing.find(\"span\", class_=\"re-I18nPropertyTitle\").get_text()\n",
    "                precio = listing.find('span', class_=\"re-CardPrice\").get_text(strip=True)\n",
    "\n",
    "                features = listing.find(\"ul\", class_=\"re-CardFeaturesWithIcons-wrapper\")\n",
    "                habitaciones = features.find(\"span\", class_=\"re-CardFeaturesWithIcons-feature-icon--rooms\").get_text(strip=True) if features else \"N/A\"\n",
    "                banos = features.find(\"span\", class_=\"re-CardFeaturesWithIcons-feature-icon--bathrooms\").get_text(strip=True) if features else \"N/A\"\n",
    "                superficie = features.find(\"span\", class_=\"re-CardFeaturesWithIcons-feature-icon--surface\").get_text(strip=True) if features else \"N/A\"\n",
    "                planta = features.find(\"span\", class_=\"re-CardFeaturesWithIcons-feature-icon--floor\").get_text(strip=True) if features else \"N/A\"\n",
    "\n",
    "                # Guardar datos del listado\n",
    "                all_listings.append({\n",
    "                    \"Título\": titulo,\n",
    "                    \"Precio\": precio,\n",
    "                    \"Habitaciones\": habitaciones,\n",
    "                    \"Baños\": banos,\n",
    "                    \"Superficie\": superficie,\n",
    "                    \"Planta\": planta,\n",
    "                    \"Enlace\": full_link,\n",
    "                })\n",
    "\n",
    "            except Exception as e:\n",
    "                print(f\"Error procesando un listado: {e}\")\n",
    "\n",
    "        # Pasar a la siguiente página\n",
    "        page += 1\n",
    "\n",
    "    except Exception as e:\n",
    "        print(f\"Error procesando la página {page}: {e}\")\n",
    "        break\n",
    "\n",
    "# Mostrar todas las tarjetas encontradas\n",
    "print(f\"Se encontraron {len(all_listings)} inmuebles.\")\n",
    "for listing in all_listings:\n",
    "    print(listing)"
   ]
  },
  {
   "cell_type": "code",
   "execution_count": null,
   "metadata": {},
   "outputs": [],
   "source": []
  }
 ],
 "metadata": {
  "kernelspec": {
   "display_name": ".venv",
   "language": "python",
   "name": "python3"
  },
  "language_info": {
   "codemirror_mode": {
    "name": "ipython",
    "version": 3
   },
   "file_extension": ".py",
   "mimetype": "text/x-python",
   "name": "python",
   "nbconvert_exporter": "python",
   "pygments_lexer": "ipython3",
   "version": "3.10.12"
  }
 },
 "nbformat": 4,
 "nbformat_minor": 2
}
